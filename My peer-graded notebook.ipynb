{
    "cells": [
        {
            "cell_type": "markdown",
            "metadata": {
                "collapsed": true
            },
            "source": "# My Jupyter Notebook on IBM Watson Studio"
        },
        {
            "cell_type": "markdown",
            "metadata": {},
            "source": "**Francois Montoisy**\n\nIntraday Power Optimizer"
        },
        {
            "cell_type": "markdown",
            "metadata": {},
            "source": "*I am interested in data science because I like to discover hidden things in datasets. I am also interested in the process itself; i.e understanding the problem at stake, analysing what data is needed, visualizing data, making models etc.*\n"
        },
        {
            "cell_type": "markdown",
            "metadata": {},
            "source": "### In the code block that follows you can see the result of the square of the number 10."
        },
        {
            "cell_type": "code",
            "execution_count": 7,
            "metadata": {},
            "outputs": [
                {
                    "name": "stdout",
                    "output_type": "stream",
                    "text": "When we multiply 10 by itself, we obtain\n"
                },
                {
                    "data": {
                        "text/plain": "100"
                    },
                    "execution_count": 7,
                    "metadata": {},
                    "output_type": "execute_result"
                }
            ],
            "source": "print(\"When we multiply 10 by itself, we obtain\") \n10*10"
        },
        {
            "cell_type": "markdown",
            "metadata": {},
            "source": "Summary of what we have learned in this notebook\n\n---\n\n* Writing titles in header styles\n* Differentiate code cells and Markdown cells\n* Structurate a markdown with horizontal line and bullets list\n* Incorporate a nice picture (see below)\n\n![alt text](https://github.com/adam-p/markdown-here/raw/master/src/common/images/icon48.png \"Logo Title Text 1\")\n"
        }
    ],
    "metadata": {
        "kernelspec": {
            "display_name": "Python 3.6",
            "language": "python",
            "name": "python3"
        },
        "language_info": {
            "codemirror_mode": {
                "name": "ipython",
                "version": 3
            },
            "file_extension": ".py",
            "mimetype": "text/x-python",
            "name": "python",
            "nbconvert_exporter": "python",
            "pygments_lexer": "ipython3",
            "version": "3.6.9"
        }
    },
    "nbformat": 4,
    "nbformat_minor": 1
}